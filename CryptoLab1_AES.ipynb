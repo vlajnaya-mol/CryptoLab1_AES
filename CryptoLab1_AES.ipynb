{
  "nbformat": 4,
  "nbformat_minor": 0,
  "metadata": {
    "kernelspec": {
      "display_name": "Python 3",
      "language": "python",
      "name": "python3"
    },
    "language_info": {
      "codemirror_mode": {
        "name": "ipython",
        "version": 3
      },
      "file_extension": ".py",
      "mimetype": "text/x-python",
      "name": "python",
      "nbconvert_exporter": "python",
      "pygments_lexer": "ipython3",
      "version": "3.6.9"
    },
    "colab": {
      "name": "CryptoLab1_AES.ipynb",
      "provenance": []
    }
  },
  "cells": [
    {
      "cell_type": "code",
      "metadata": {
        "id": "RNbx_NxWXyIy"
      },
      "source": [
        "import numpy as np"
      ],
      "execution_count": 3,
      "outputs": []
    },
    {
      "cell_type": "markdown",
      "metadata": {
        "id": "NgGqouMJXyI4"
      },
      "source": [
        "### S-box матриці "
      ]
    },
    {
      "cell_type": "code",
      "metadata": {
        "id": "jhgX5p-_XyI5"
      },
      "source": [
        "sbox = np.array((\n",
        "        0x63, 0x7C, 0x77, 0x7B, 0xF2, 0x6B, 0x6F, 0xC5, 0x30, 0x01, 0x67, 0x2B, 0xFE, 0xD7, 0xAB, 0x76,\n",
        "        0xCA, 0x82, 0xC9, 0x7D, 0xFA, 0x59, 0x47, 0xF0, 0xAD, 0xD4, 0xA2, 0xAF, 0x9C, 0xA4, 0x72, 0xC0,\n",
        "        0xB7, 0xFD, 0x93, 0x26, 0x36, 0x3F, 0xF7, 0xCC, 0x34, 0xA5, 0xE5, 0xF1, 0x71, 0xD8, 0x31, 0x15,\n",
        "        0x04, 0xC7, 0x23, 0xC3, 0x18, 0x96, 0x05, 0x9A, 0x07, 0x12, 0x80, 0xE2, 0xEB, 0x27, 0xB2, 0x75,\n",
        "        0x09, 0x83, 0x2C, 0x1A, 0x1B, 0x6E, 0x5A, 0xA0, 0x52, 0x3B, 0xD6, 0xB3, 0x29, 0xE3, 0x2F, 0x84,\n",
        "        0x53, 0xD1, 0x00, 0xED, 0x20, 0xFC, 0xB1, 0x5B, 0x6A, 0xCB, 0xBE, 0x39, 0x4A, 0x4C, 0x58, 0xCF,\n",
        "        0xD0, 0xEF, 0xAA, 0xFB, 0x43, 0x4D, 0x33, 0x85, 0x45, 0xF9, 0x02, 0x7F, 0x50, 0x3C, 0x9F, 0xA8,\n",
        "        0x51, 0xA3, 0x40, 0x8F, 0x92, 0x9D, 0x38, 0xF5, 0xBC, 0xB6, 0xDA, 0x21, 0x10, 0xFF, 0xF3, 0xD2,\n",
        "        0xCD, 0x0C, 0x13, 0xEC, 0x5F, 0x97, 0x44, 0x17, 0xC4, 0xA7, 0x7E, 0x3D, 0x64, 0x5D, 0x19, 0x73,\n",
        "        0x60, 0x81, 0x4F, 0xDC, 0x22, 0x2A, 0x90, 0x88, 0x46, 0xEE, 0xB8, 0x14, 0xDE, 0x5E, 0x0B, 0xDB,\n",
        "        0xE0, 0x32, 0x3A, 0x0A, 0x49, 0x06, 0x24, 0x5C, 0xC2, 0xD3, 0xAC, 0x62, 0x91, 0x95, 0xE4, 0x79,\n",
        "        0xE7, 0xC8, 0x37, 0x6D, 0x8D, 0xD5, 0x4E, 0xA9, 0x6C, 0x56, 0xF4, 0xEA, 0x65, 0x7A, 0xAE, 0x08,\n",
        "        0xBA, 0x78, 0x25, 0x2E, 0x1C, 0xA6, 0xB4, 0xC6, 0xE8, 0xDD, 0x74, 0x1F, 0x4B, 0xBD, 0x8B, 0x8A,\n",
        "        0x70, 0x3E, 0xB5, 0x66, 0x48, 0x03, 0xF6, 0x0E, 0x61, 0x35, 0x57, 0xB9, 0x86, 0xC1, 0x1D, 0x9E,\n",
        "        0xE1, 0xF8, 0x98, 0x11, 0x69, 0xD9, 0x8E, 0x94, 0x9B, 0x1E, 0x87, 0xE9, 0xCE, 0x55, 0x28, 0xDF,\n",
        "        0x8C, 0xA1, 0x89, 0x0D, 0xBF, 0xE6, 0x42, 0x68, 0x41, 0x99, 0x2D, 0x0F, 0xB0, 0x54, 0xBB, 0x16\n",
        "        )).reshape(16,16)\n",
        "inv_sbox = np.array((\n",
        "        0x52, 0x09, 0x6A, 0xD5, 0x30, 0x36, 0xA5, 0x38, 0xBF, 0x40, 0xA3, 0x9E, 0x81, 0xF3, 0xD7, 0xFB,\n",
        "        0x7C, 0xE3, 0x39, 0x82, 0x9B, 0x2F, 0xFF, 0x87, 0x34, 0x8E, 0x43, 0x44, 0xC4, 0xDE, 0xE9, 0xCB,\n",
        "        0x54, 0x7B, 0x94, 0x32, 0xA6, 0xC2, 0x23, 0x3D, 0xEE, 0x4C, 0x95, 0x0B, 0x42, 0xFA, 0xC3, 0x4E,\n",
        "        0x08, 0x2E, 0xA1, 0x66, 0x28, 0xD9, 0x24, 0xB2, 0x76, 0x5B, 0xA2, 0x49, 0x6D, 0x8B, 0xD1, 0x25,\n",
        "        0x72, 0xF8, 0xF6, 0x64, 0x86, 0x68, 0x98, 0x16, 0xD4, 0xA4, 0x5C, 0xCC, 0x5D, 0x65, 0xB6, 0x92,\n",
        "        0x6C, 0x70, 0x48, 0x50, 0xFD, 0xED, 0xB9, 0xDA, 0x5E, 0x15, 0x46, 0x57, 0xA7, 0x8D, 0x9D, 0x84,\n",
        "        0x90, 0xD8, 0xAB, 0x00, 0x8C, 0xBC, 0xD3, 0x0A, 0xF7, 0xE4, 0x58, 0x05, 0xB8, 0xB3, 0x45, 0x06,\n",
        "        0xD0, 0x2C, 0x1E, 0x8F, 0xCA, 0x3F, 0x0F, 0x02, 0xC1, 0xAF, 0xBD, 0x03, 0x01, 0x13, 0x8A, 0x6B,\n",
        "        0x3A, 0x91, 0x11, 0x41, 0x4F, 0x67, 0xDC, 0xEA, 0x97, 0xF2, 0xCF, 0xCE, 0xF0, 0xB4, 0xE6, 0x73,\n",
        "        0x96, 0xAC, 0x74, 0x22, 0xE7, 0xAD, 0x35, 0x85, 0xE2, 0xF9, 0x37, 0xE8, 0x1C, 0x75, 0xDF, 0x6E,\n",
        "        0x47, 0xF1, 0x1A, 0x71, 0x1D, 0x29, 0xC5, 0x89, 0x6F, 0xB7, 0x62, 0x0E, 0xAA, 0x18, 0xBE, 0x1B,\n",
        "        0xFC, 0x56, 0x3E, 0x4B, 0xC6, 0xD2, 0x79, 0x20, 0x9A, 0xDB, 0xC0, 0xFE, 0x78, 0xCD, 0x5A, 0xF4,\n",
        "        0x1F, 0xDD, 0xA8, 0x33, 0x88, 0x07, 0xC7, 0x31, 0xB1, 0x12, 0x10, 0x59, 0x27, 0x80, 0xEC, 0x5F,\n",
        "        0x60, 0x51, 0x7F, 0xA9, 0x19, 0xB5, 0x4A, 0x0D, 0x2D, 0xE5, 0x7A, 0x9F, 0x93, 0xC9, 0x9C, 0xEF,\n",
        "        0xA0, 0xE0, 0x3B, 0x4D, 0xAE, 0x2A, 0xF5, 0xB0, 0xC8, 0xEB, 0xBB, 0x3C, 0x83, 0x53, 0x99, 0x61,\n",
        "        0x17, 0x2B, 0x04, 0x7E, 0xBA, 0x77, 0xD6, 0x26, 0xE1, 0x69, 0x14, 0x63, 0x55, 0x21, 0x0C, 0x7D\n",
        "        )).reshape(16,16)"
      ],
      "execution_count": 4,
      "outputs": []
    },
    {
      "cell_type": "markdown",
      "metadata": {
        "id": "WUbhyc__XyI-"
      },
      "source": [
        "### Масив з константами заокруглення"
      ]
    },
    {
      "cell_type": "code",
      "metadata": {
        "id": "6AiIMINZXyI-"
      },
      "source": [
        "rcon = [0x1]\n",
        "for i in range(10):\n",
        "    rcon.append((rcon[-1]<<1) ^ (0x11b & -(rcon[-1]>>7)))\n",
        "rcon = [np.array([v, 0, 0, 0]) for v in rcon]"
      ],
      "execution_count": 5,
      "outputs": []
    },
    {
      "cell_type": "markdown",
      "metadata": {
        "id": "pcGx3MEcXyJD"
      },
      "source": [
        "### Матриці для Mix Columns та Inverse Mix Columns операцій"
      ]
    },
    {
      "cell_type": "code",
      "metadata": {
        "id": "hU3hlEmMXyJE"
      },
      "source": [
        "mix_col_mat = np.array([[2, 3, 1, 1],\n",
        "                        [1, 2, 3, 1],\n",
        "                        [1, 1, 2, 3],\n",
        "                        [3, 1, 1, 2]])\n",
        "\n",
        "inv_mix_col_mat = np.array([[0xe, 0xb, 0xd, 0x9],\n",
        "                            [0x9, 0xe, 0xb, 0xd],\n",
        "                            [0xd, 0x9, 0xe, 0xb],\n",
        "                            [0xb, 0xd, 0x9, 0xe]])"
      ],
      "execution_count": 6,
      "outputs": []
    },
    {
      "cell_type": "markdown",
      "metadata": {
        "id": "GaR0g4CzXyJI"
      },
      "source": [
        "### Функції для дебагу та виведення результатів"
      ]
    },
    {
      "cell_type": "code",
      "metadata": {
        "id": "8OHoxAwGXyJJ"
      },
      "source": [
        "def concat_word(word):\n",
        "    \"\"\"перетворення масиву десяткових чисел в одне 16-кове число\"\"\"\n",
        "    return ''.join([hex(v)[2:].rjust(2, '0') for v in word])"
      ],
      "execution_count": 7,
      "outputs": []
    },
    {
      "cell_type": "code",
      "metadata": {
        "id": "xAOylaOgXyJN"
      },
      "source": [
        "def print_hex(state):\n",
        "    \"\"\"виведення стану на екран\"\"\"\n",
        "    print()\n",
        "    for word in state:\n",
        "        print(' '.join([hex(v)[2:].rjust(2, '0') for v in word]))"
      ],
      "execution_count": 8,
      "outputs": []
    },
    {
      "cell_type": "markdown",
      "metadata": {
        "id": "wBj_cfpzXyJS"
      },
      "source": [
        "### Побітові/побайтові операції"
      ]
    },
    {
      "cell_type": "code",
      "metadata": {
        "id": "-h9DAV2RXyJT"
      },
      "source": [
        "def sub_word(word):\n",
        "    \"\"\"перетворення слова по s-box\"\"\"\n",
        "    return np.array([sbox[byte//16 % 16, byte%16] for byte in word])\n",
        "\n",
        "def rot_word(word):\n",
        "    \"\"\"поворот слова (зсув)\"\"\"\n",
        "    return np.concatenate((word[1:], word[:1]))\n",
        "\n",
        "def word_xor(a,b):\n",
        "    \"\"\"ксор між словами (масивами байтів)\"\"\"\n",
        "    return np.bitwise_xor(a,b)"
      ],
      "execution_count": 9,
      "outputs": []
    },
    {
      "cell_type": "code",
      "metadata": {
        "id": "U61bWFujXyJY"
      },
      "source": [
        "def g_mult(a, b):\n",
        "    \"\"\"чесно вкрадена з вікіпедії функція для множення байтів у GF\"\"\"\n",
        "    p = 0\n",
        "    for counter in range(8):\n",
        "        if ((b & 1) != 0):\n",
        "            p ^= a\n",
        "        hi_bit_set = (a & 0x80) != 0\n",
        "        a <<= 1\n",
        "        if (hi_bit_set):\n",
        "            a ^= 0x1B\n",
        "        b >>= 1\n",
        "    return p\n",
        "\n",
        "def g_mult_mat(a, b):\n",
        "    \"\"\"матричний варіант g_mult\"\"\"\n",
        "    p = np.zeros_like(a)\n",
        "    for counter in range(8):\n",
        "        p[(b & 1) != 0] ^= a[(b & 1) != 0]\n",
        "        hi_bit_set = (a & 0x80) != 0\n",
        "        a  = a << 1\n",
        "        a[hi_bit_set] ^= 0x1B        \n",
        "        b  = b >> 1\n",
        "    return p\n"
      ],
      "execution_count": 10,
      "outputs": []
    },
    {
      "cell_type": "markdown",
      "metadata": {
        "id": "-wkC35xoXyJc"
      },
      "source": [
        "### Методи алгоритму AES"
      ]
    },
    {
      "cell_type": "code",
      "metadata": {
        "id": "5TBp8FzWXyJd"
      },
      "source": [
        "class AES:\n",
        "    def __init__(self, key, Nk, Nr, Nb):\n",
        "        self.key = key\n",
        "        self.Nk, self.Nr, self.Nb = Nk, Nr, Nb\n",
        "        self.expanded_key = self.key_expansion(key) # генерується розширений ключ для раундів\n",
        "    \n",
        "    def key_expansion(self, key):\n",
        "        expanded_key = [np.array(key[i:i+4]) for i in range(0, len(key), 4)]\n",
        "\n",
        "        i = len(expanded_key)\n",
        "        while len(expanded_key) < self.Nb * (self.Nr+1):\n",
        "            temp = expanded_key[-1]\n",
        "\n",
        "            if i % self.Nk == 0:\n",
        "                temp = word_xor(sub_word(rot_word(temp)), rcon[i//self.Nk - 1])\n",
        "\n",
        "            elif self.Nk > 6 and i % self.Nk == 4:\n",
        "                temp = sub_word(temp)\n",
        "\n",
        "            expanded_key.append(word_xor(expanded_key[-self.Nk], temp))\n",
        "\n",
        "            i = len(expanded_key)\n",
        "\n",
        "        return np.array(expanded_key)\n",
        "\n",
        "    def _forward(self):\n",
        "        \"\"\"налаштовує методи на шифрування даних\"\"\"\n",
        "        self.sbox = sbox\n",
        "        self.mix_col_mat = mix_col_mat\n",
        "        self.shift_direction = 1\n",
        "    \n",
        "    def _backward(self):\n",
        "        \"\"\"налаштовує методи на дешифрування даних\"\"\"\n",
        "        self.sbox = inv_sbox\n",
        "        self.mix_col_mat = inv_mix_col_mat\n",
        "        self.shift_direction = -1\n",
        "        \n",
        "    def add_round_key(self, state, words):\n",
        "        \"\"\"додає (ксор) ключ до стану\"\"\"\n",
        "        words = words.reshape(4, -1).T\n",
        "        return word_xor(state, words)\n",
        "\n",
        "    def sub_bytes(self, state):\n",
        "        \"\"\"застосовує S-box на стані\"\"\"\n",
        "        return self.sbox[state//16 % 16, state%16]\n",
        "\n",
        "    def shift_rows(self, state):\n",
        "        \"\"\"зсуває рядки стану в ту чи іншу сторону\"\"\"\n",
        "        return np.vstack([np.concatenate((state[i, self.shift_direction*i:], \n",
        "                                          state[i, :self.shift_direction*i])) \n",
        "                          for i in range(state.shape[0])])\n",
        "\n",
        "    def mix_columns(self, state):\n",
        "        \"\"\"виконує операцію Mix Columns\"\"\"\n",
        "        for col in range(state.shape[1]):\n",
        "            mult = g_mult_mat(self.mix_col_mat, np.broadcast_to(state[:,col], mix_col_mat.shape))\n",
        "            state[:,col] = np.bitwise_xor.reduce(mult, axis=1) % 256 \n",
        "        return state\n",
        "\n",
        "    def cipher(self, inp):\n",
        "        \"\"\"шифрувати вхідні дані\"\"\"\n",
        "        self._forward()\n",
        "        \n",
        "        state = inp.reshape(4, -1).T\n",
        "#         print_hex(state)\n",
        "        state = self.add_round_key(state, self.expanded_key[:self.Nb])\n",
        "#         print_hex(state)\n",
        "        for round_ in range(1, self.Nr):\n",
        "            state = self.sub_bytes(state)\n",
        "#             print_hex(state)\n",
        "            state = self.shift_rows(state)\n",
        "#             print_hex(state)\n",
        "            state = self.mix_columns(state)\n",
        "#             print_hex(state)\n",
        "            state = self.add_round_key(state, self.expanded_key[round_*self.Nb: (round_+1)*self.Nb])\n",
        "#             print_hex(state)\n",
        "\n",
        "        state = self.sub_bytes(state)\n",
        "        state = self.shift_rows(state)\n",
        "        state = self.add_round_key(state, self.expanded_key[self.Nr*self.Nb: (self.Nr+1)*self.Nb])\n",
        "#         print_hex(state)\n",
        "        return state.T.flatten()\n",
        "\n",
        "    def inv_cipher(self, inp):\n",
        "        \"\"\"дешифрувати вхідні дані\"\"\"\n",
        "        self._backward()\n",
        "        \n",
        "        state = inp.reshape(4, -1).T\n",
        "\n",
        "        state = self.add_round_key(state, self.expanded_key[self.Nr*self.Nb: (self.Nr+1)*self.Nb])\n",
        "        for round_ in range(self.Nr-1, 0, -1):\n",
        "            state = self.shift_rows(state)\n",
        "            state = self.sub_bytes(state)\n",
        "            state = self.add_round_key(state, self.expanded_key[round_*self.Nb: (round_+1)*self.Nb])\n",
        "            state = self.mix_columns(state)\n",
        "\n",
        "        state = self.shift_rows(state)\n",
        "        state = self.sub_bytes(state)\n",
        "        state = self.add_round_key(state, self.expanded_key[:self.Nb])\n",
        "        \n",
        "        return state.T.flatten()\n"
      ],
      "execution_count": 11,
      "outputs": []
    },
    {
      "cell_type": "markdown",
      "metadata": {
        "id": "-2GWlHaFXyJg"
      },
      "source": [
        "## Тести"
      ]
    },
    {
      "cell_type": "markdown",
      "metadata": {
        "id": "AqP8iQuRXyJh"
      },
      "source": [
        " Дані для тестування взяті з https://nvlpubs.nist.gov/nistpubs/FIPS/NIST.FIPS.197.pdf"
      ]
    },
    {
      "cell_type": "markdown",
      "metadata": {
        "id": "TxY_JubwXyJi"
      },
      "source": [
        "### Тест Key Expansion"
      ]
    },
    {
      "cell_type": "code",
      "metadata": {
        "id": "ZLU-LstqXyJj"
      },
      "source": [
        "test_key = np.array([0x2b, 0x7e, 0x15, 0x16, 0x28, 0xae, 0xd2, 0xa6, \n",
        "                     0xab, 0xf7, 0x15, 0x88, 0x09, 0xcf, 0x4f, 0x3c])"
      ],
      "execution_count": 12,
      "outputs": []
    },
    {
      "cell_type": "code",
      "metadata": {
        "id": "tARNH599XyJm"
      },
      "source": [
        "Nk = 4 # number of 32bit words\n",
        "Nr = 10 # number of rounds\n",
        "Nb = 4 # number of columns (32bit words)"
      ],
      "execution_count": 13,
      "outputs": []
    },
    {
      "cell_type": "code",
      "metadata": {
        "scrolled": true,
        "id": "1iwglsvbXyJq"
      },
      "source": [
        "aes = AES(test_key, Nk, Nr, Nb)\n",
        "expanded = aes.expanded_key"
      ],
      "execution_count": 14,
      "outputs": []
    },
    {
      "cell_type": "code",
      "metadata": {
        "id": "LAgYiAOMXyJu"
      },
      "source": [
        "w0 = \"2b7e1516\"\n",
        "w3 = \"09cf4f3c\"\n",
        "w4 = \"a0fafe17\"\n",
        "w7 = \"2a6c7605\"\n",
        "w8 = \"f2c295f2\"\n",
        "w20 = \"d4d1c6f8\"\n",
        "w40 = \"d014f9a8\"\n",
        "w43 = \"b6630ca6\"\n",
        "\n",
        "assert w0 == concat_word(expanded[0])\n",
        "assert w3 == concat_word(expanded[3])\n",
        "assert w4 == concat_word(expanded[4])\n",
        "assert w7 == concat_word(expanded[7])\n",
        "assert w8 == concat_word(expanded[8])\n",
        "assert w20 == concat_word(expanded[20])\n",
        "assert w40 == concat_word(expanded[40])\n",
        "assert w43 == concat_word(expanded[43])"
      ],
      "execution_count": 15,
      "outputs": []
    },
    {
      "cell_type": "markdown",
      "metadata": {
        "id": "0J00PuT5XyJy"
      },
      "source": [
        "### Тест АЕS шифрування"
      ]
    },
    {
      "cell_type": "markdown",
      "metadata": {
        "id": "6GZ11VdzXyJz"
      },
      "source": [
        "### Тест 1"
      ]
    },
    {
      "cell_type": "code",
      "metadata": {
        "id": "Gv8cWB2AXyJz",
        "outputId": "0dddcfad-aa23-440e-ed37-a9b013db6b71",
        "colab": {
          "base_uri": "https://localhost:8080/",
          "height": 50
        }
      },
      "source": [
        "inp = np.array([0x32, 0x43, 0xf6, 0xa8, 0x88, 0x5a, 0x30, 0x8d, \n",
        "                0x31, 0x31, 0x98, 0xa2, 0xe0, 0x37, 0x07, 0x34])\n",
        "inp"
      ],
      "execution_count": 16,
      "outputs": [
        {
          "output_type": "execute_result",
          "data": {
            "text/plain": [
              "array([ 50,  67, 246, 168, 136,  90,  48, 141,  49,  49, 152, 162, 224,\n",
              "        55,   7,  52])"
            ]
          },
          "metadata": {
            "tags": []
          },
          "execution_count": 16
        }
      ]
    },
    {
      "cell_type": "code",
      "metadata": {
        "id": "NIVrlLbRXyJ4"
      },
      "source": [
        "aes = AES(test_key, Nk, Nr, Nb)"
      ],
      "execution_count": 17,
      "outputs": []
    },
    {
      "cell_type": "code",
      "metadata": {
        "id": "P-ukrv1jXyJ9",
        "outputId": "01e7bea0-9a4b-48f1-fd4f-58151eacdcdc",
        "colab": {
          "base_uri": "https://localhost:8080/",
          "height": 50
        }
      },
      "source": [
        "encoded = aes.cipher(inp)\n",
        "print(' '.join(encoded.astype(str)))\n",
        "print(concat_word(encoded))"
      ],
      "execution_count": 18,
      "outputs": [
        {
          "output_type": "stream",
          "text": [
            "57 37 132 29 2 220 9 251 220 17 133 151 25 106 11 50\n",
            "3925841d02dc09fbdc118597196a0b32\n"
          ],
          "name": "stdout"
        }
      ]
    },
    {
      "cell_type": "code",
      "metadata": {
        "id": "JXyV-3FZXyKB",
        "outputId": "e5990da1-4ae9-4299-a9d3-936d7504d006",
        "colab": {
          "base_uri": "https://localhost:8080/",
          "height": 50
        }
      },
      "source": [
        "decoded = aes.inv_cipher(encoded)\n",
        "assert all(inp == decoded)\n",
        "print(' '.join(decoded.astype(str)))\n",
        "print(concat_word(decoded))"
      ],
      "execution_count": 19,
      "outputs": [
        {
          "output_type": "stream",
          "text": [
            "50 67 246 168 136 90 48 141 49 49 152 162 224 55 7 52\n",
            "3243f6a8885a308d313198a2e0370734\n"
          ],
          "name": "stdout"
        }
      ]
    },
    {
      "cell_type": "markdown",
      "metadata": {
        "id": "LzWiNNVWXyKE"
      },
      "source": [
        "### Тест 2"
      ]
    },
    {
      "cell_type": "code",
      "metadata": {
        "id": "H3pvNcbCXyKF",
        "outputId": "7aa99596-2e95-42cc-e0bd-49bbd9dea5c4",
        "colab": {
          "base_uri": "https://localhost:8080/",
          "height": 50
        }
      },
      "source": [
        "inp = \"00112233445566778899aabbccddeeff\"\n",
        "inp = np.array([int(inp[i:i+2], 16) for i in range(0, len(inp), 2)])\n",
        "inp"
      ],
      "execution_count": 20,
      "outputs": [
        {
          "output_type": "execute_result",
          "data": {
            "text/plain": [
              "array([  0,  17,  34,  51,  68,  85, 102, 119, 136, 153, 170, 187, 204,\n",
              "       221, 238, 255])"
            ]
          },
          "metadata": {
            "tags": []
          },
          "execution_count": 20
        }
      ]
    },
    {
      "cell_type": "code",
      "metadata": {
        "id": "1DQjIf3kXyKI",
        "outputId": "8733283a-c449-4122-fd5a-f4af3ce15eb1",
        "colab": {
          "base_uri": "https://localhost:8080/",
          "height": 34
        }
      },
      "source": [
        "test_key = \"000102030405060708090a0b0c0d0e0f\"\n",
        "test_key = np.array([int(test_key[i:i+2], 16) for i in range(0, len(test_key), 2)])\n",
        "test_key"
      ],
      "execution_count": 21,
      "outputs": [
        {
          "output_type": "execute_result",
          "data": {
            "text/plain": [
              "array([ 0,  1,  2,  3,  4,  5,  6,  7,  8,  9, 10, 11, 12, 13, 14, 15])"
            ]
          },
          "metadata": {
            "tags": []
          },
          "execution_count": 21
        }
      ]
    },
    {
      "cell_type": "code",
      "metadata": {
        "id": "zC7rehwXXyKM"
      },
      "source": [
        "aes = AES(test_key, Nk, Nr, Nb)"
      ],
      "execution_count": 22,
      "outputs": []
    },
    {
      "cell_type": "code",
      "metadata": {
        "id": "B8NS7OPqXyKP",
        "outputId": "ffb2e27c-afec-437a-9da7-8e6f8d9f4cf0",
        "colab": {
          "base_uri": "https://localhost:8080/",
          "height": 50
        }
      },
      "source": [
        "encoded = aes.cipher(inp)\n",
        "assert concat_word(encoded) == \"69c4e0d86a7b0430d8cdb78070b4c55a\"\n",
        "print(' '.join(encoded.astype(str)))\n",
        "print(concat_word(encoded))"
      ],
      "execution_count": 23,
      "outputs": [
        {
          "output_type": "stream",
          "text": [
            "105 196 224 216 106 123 4 48 216 205 183 128 112 180 197 90\n",
            "69c4e0d86a7b0430d8cdb78070b4c55a\n"
          ],
          "name": "stdout"
        }
      ]
    },
    {
      "cell_type": "code",
      "metadata": {
        "id": "1ZSQjd5jXyKT",
        "outputId": "617a0038-1d1e-488a-a36d-78203eaec936",
        "colab": {
          "base_uri": "https://localhost:8080/",
          "height": 50
        }
      },
      "source": [
        "decoded = aes.inv_cipher(encoded)\n",
        "assert concat_word(decoded) == \"00112233445566778899aabbccddeeff\"\n",
        "print(' '.join(decoded.astype(str)))\n",
        "print(concat_word(decoded))"
      ],
      "execution_count": 24,
      "outputs": [
        {
          "output_type": "stream",
          "text": [
            "0 17 34 51 68 85 102 119 136 153 170 187 204 221 238 255\n",
            "00112233445566778899aabbccddeeff\n"
          ],
          "name": "stdout"
        }
      ]
    },
    {
      "cell_type": "markdown",
      "metadata": {
        "id": "f179Nat4aCMR"
      },
      "source": [
        "### Тест швидкості"
      ]
    },
    {
      "cell_type": "markdown",
      "metadata": {
        "id": "guJo-Zc3bZ9e"
      },
      "source": [
        "### Генерація даних на 1 Мб:"
      ]
    },
    {
      "cell_type": "code",
      "metadata": {
        "id": "GAsyeRyAXyKb"
      },
      "source": [
        "# 1 Мб == 8e+9 бітів == 62500 блоків по 128 бітів\n",
        "# Використовуються мегабайти замість гігабайтів внаслідок низької швидкості реалізації на мові Python\n",
        "data = np.random.randint(0, 255, (62500, 16))"
      ],
      "execution_count": null,
      "outputs": []
    },
    {
      "cell_type": "code",
      "metadata": {
        "id": "iKxRW6pCbY1k"
      },
      "source": [
        "aes = AES(test_key, Nk, Nr, Nb)"
      ],
      "execution_count": null,
      "outputs": []
    },
    {
      "cell_type": "code",
      "metadata": {
        "id": "8-WeT57wbYzr",
        "outputId": "4d989427-1e8c-42b5-eada-1057b7ac1044",
        "colab": {
          "base_uri": "https://localhost:8080/",
          "height": 51
        }
      },
      "source": [
        "%%time\n",
        "encoded = [aes.cipher(inp) for inp in data]"
      ],
      "execution_count": null,
      "outputs": [
        {
          "output_type": "stream",
          "text": [
            "CPU times: user 5min 36s, sys: 248 ms, total: 5min 37s\n",
            "Wall time: 5min 37s\n"
          ],
          "name": "stdout"
        }
      ]
    },
    {
      "cell_type": "code",
      "metadata": {
        "id": "NFjSzRVzb7Q-",
        "outputId": "c3f5515a-5746-47f4-9765-70a79e28efc6",
        "colab": {
          "base_uri": "https://localhost:8080/",
          "height": 51
        }
      },
      "source": [
        "%%time\n",
        "decoded = [aes.inv_cipher(inp) for inp in encoded]"
      ],
      "execution_count": null,
      "outputs": [
        {
          "output_type": "stream",
          "text": [
            "CPU times: user 5min 47s, sys: 303 ms, total: 5min 47s\n",
            "Wall time: 5min 48s\n"
          ],
          "name": "stdout"
        }
      ]
    },
    {
      "cell_type": "code",
      "metadata": {
        "id": "KulfODuokNzH"
      },
      "source": [
        "assert all(data.flatten() == np.array(decoded).flatten())"
      ],
      "execution_count": null,
      "outputs": []
    },
    {
      "cell_type": "code",
      "metadata": {
        "id": "o5HpE6RPinhF"
      },
      "source": [
        "# %load_ext line_profiler"
      ],
      "execution_count": null,
      "outputs": []
    },
    {
      "cell_type": "code",
      "metadata": {
        "id": "TRABAsBuinoL"
      },
      "source": [
        "# %lprun -f aes.cipher [aes.cipher(inp) for inp in data]"
      ],
      "execution_count": null,
      "outputs": []
    },
    {
      "cell_type": "code",
      "metadata": {
        "id": "waf-5tFwinkI"
      },
      "source": [
        ""
      ],
      "execution_count": null,
      "outputs": []
    },
    {
      "cell_type": "code",
      "metadata": {
        "id": "UjMw6khgkGfS"
      },
      "source": [
        ""
      ],
      "execution_count": null,
      "outputs": []
    }
  ]
}